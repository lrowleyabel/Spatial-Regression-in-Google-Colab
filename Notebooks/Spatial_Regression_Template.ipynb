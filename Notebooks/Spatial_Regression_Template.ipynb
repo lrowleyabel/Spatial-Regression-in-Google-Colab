{
  "nbformat": 4,
  "nbformat_minor": 0,
  "metadata": {
    "colab": {
      "provenance": [],
      "include_colab_link": true
    },
    "kernelspec": {
      "name": "python3",
      "display_name": "Python 3"
    }
  },
  "cells": [
    {
      "cell_type": "markdown",
      "metadata": {
        "id": "view-in-github",
        "colab_type": "text"
      },
      "source": [
        "<a href=\"https://colab.research.google.com/github/lrowleyabel/Spatial-Regression-in-Google-Colab/blob/main/Notebooks/Spatial_Regression_Template.ipynb\" target=\"_parent\"><img src=\"https://colab.research.google.com/assets/colab-badge.svg\" alt=\"Open In Colab\"/></a>"
      ]
    },
    {
      "cell_type": "markdown",
      "source": [
        "# Spatial Regression in R using the Google Colab Environment\n",
        "\n",
        "This is a template notebook for carrying out analysis of spatial data in R using the Google Colab environment. I developed this while conducting spaital regressions on small UK census geographies which took too long to run locally on my machine. This notebook takes advantage of the additional CPU and RAM available in the Google Colab environment in order to run models much faster.\n",
        "\n",
        "In order to use this template, you must first have run through the [*Setting Up Spatial Packages*](https://github.com/lrowleyabel/Spatial-Regression-in-Google-Colab/blob/main/Notebooks/Spatial_Regression_Template.ipynb) notebook. I found that the most difficult part of running spatial regressions in Google Colab was getting the required packages installed and talking to each other properly - that notebook works through the steps needed to get that set up."
      ],
      "metadata": {
        "id": "RQWDkN6i-jmg"
      }
    },
    {
      "cell_type": "markdown",
      "source": [
        "### Step 1: Set up R and load packages"
      ],
      "metadata": {
        "id": "ISW9Od03CBaN"
      }
    },
    {
      "cell_type": "code",
      "source": [
        "# Check which version of the rpy2 package is installed\n",
        "!pip show rpy2"
      ],
      "metadata": {
        "id": "1SuVHRqLGw-I"
      },
      "execution_count": null,
      "outputs": []
    },
    {
      "cell_type": "code",
      "source": [
        "# If rpy2 version is newer than 3.5.1, downgrade to 3.5.1 so that R magic works. After installing, restart runtime.\n",
        "# via https://stackoverflow.com/questions/74283327/conversion-py2rpy-not-defined-for-objects-of-type-class-str\n",
        "!pip install rpy2==3.5.1"
      ],
      "metadata": {
        "id": "P0ZrFnOvECLq"
      },
      "execution_count": null,
      "outputs": []
    },
    {
      "cell_type": "code",
      "metadata": {
        "id": "T03DfBR1Hrh3"
      },
      "source": [
        "# Activate R in python notebook\n",
        "%load_ext rpy2.ipython\n",
        "\n",
        "# Connect the notebook to your Google Drive\n",
        "from google.colab import drive\n",
        "drive.mount('/content/drive')"
      ],
      "execution_count": null,
      "outputs": []
    },
    {
      "cell_type": "code",
      "source": [
        "%%R\n",
        "# Install relevant system packages required for loading the sf package\n",
        "# via https://github.com/datacarpentry/r-raster-vector-geospatial/issues/138#issue-313014296\n",
        "system(\"apt-get -qq install -y libudunits2-dev libgdal-dev libgeos-dev libproj-dev\", intern=TRUE)\n",
        "system(\"apt install libcurl4-openssl-dev\")"
      ],
      "metadata": {
        "id": "Xak3bh7zWw2Q"
      },
      "execution_count": null,
      "outputs": []
    },
    {
      "cell_type": "code",
      "source": [
        "%%R\n",
        "# Specify path to directory in Google Drive containing R packages (created in the Setting Up Spatial Packages notebook).\n",
        "# Edit to point to correct directory.\n",
        "lib_loc <- \"/content/drive/MyDrive/r-lib\"\n"
      ],
      "metadata": {
        "id": "WJPQqMqwtuQI"
      },
      "execution_count": null,
      "outputs": []
    },
    {
      "cell_type": "markdown",
      "source": [
        "### Step 2: Load R packages"
      ],
      "metadata": {
        "id": "xyJrH3XFeMsz"
      }
    },
    {
      "cell_type": "code",
      "source": [
        "%%R\n",
        "# Load required packages from Google Drive\n",
        "library(\"sp\", lib.loc = lib_loc)\n",
        "library(\"rgdal\", lib.loc = lib_loc)\n",
        "library(\"Rcpp\", lib.loc = lib_loc)\n",
        "library(\"terra\", lib.loc = lib_loc)\n",
        "library(\"raster\", lib.loc = lib_loc)\n",
        "library(\"spData\", lib.loc = lib_loc)\n",
        "library(\"units\", lib.loc = lib_loc)\n",
        "library(\"s2\", lib.loc = lib_loc)\n",
        "library(\"deldir\", lib.loc = lib_loc)\n",
        "library(\"sf\", lib.loc = lib_loc)\n",
        "library(\"spdep\", lib.loc = lib_loc)\n",
        "library(\"spatialreg\", lib.loc = lib_loc)\n",
        "library(\"dplyr\")\n",
        "library(\"ggplot2\")"
      ],
      "metadata": {
        "id": "BabVOcp1tgZu"
      },
      "execution_count": null,
      "outputs": []
    },
    {
      "cell_type": "markdown",
      "source": [
        "### Step 3: Read in data\n",
        "\n",
        "The data you want to work with must either be stored in your Google Drive or uploaded directly to this notebook environment. Note that if you upload directly to this notebook environment, the data files will be deleted once you exit the notebook."
      ],
      "metadata": {
        "id": "0gJfeB4_JW12"
      }
    },
    {
      "cell_type": "code",
      "source": [
        "%%R\n",
        "# Read in data"
      ],
      "metadata": {
        "id": "wbpqurmjlvNL"
      },
      "execution_count": null,
      "outputs": []
    },
    {
      "cell_type": "markdown",
      "source": [
        "### Step 4: Analysis\n",
        "We're now ready to run our spatial analyses as we normally would in R."
      ],
      "metadata": {
        "id": "kIzG_t0Ona4n"
      }
    },
    {
      "cell_type": "code",
      "source": [
        "%%R\n",
        "# Analysis"
      ],
      "metadata": {
        "id": "T2NgPWe4nmVW"
      },
      "execution_count": null,
      "outputs": []
    }
  ]
}