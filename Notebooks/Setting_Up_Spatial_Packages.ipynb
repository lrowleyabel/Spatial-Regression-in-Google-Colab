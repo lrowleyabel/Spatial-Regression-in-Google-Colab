{
  "nbformat": 4,
  "nbformat_minor": 0,
  "metadata": {
    "colab": {
      "provenance": [],
      "include_colab_link": true
    },
    "kernelspec": {
      "name": "python3",
      "display_name": "Python 3"
    }
  },
  "cells": [
    {
      "cell_type": "markdown",
      "metadata": {
        "id": "view-in-github",
        "colab_type": "text"
      },
      "source": [
        "<a href=\"https://colab.research.google.com/github/lrowleyabel/Spatial-Regression-in-Google-Colab/blob/main/Notebooks/Setting_Up_Spatial_Packages.ipynb\" target=\"_parent\"><img src=\"https://colab.research.google.com/assets/colab-badge.svg\" alt=\"Open In Colab\"/></a>"
      ]
    },
    {
      "cell_type": "markdown",
      "source": [
        "# Setting Up R Packages for Spatial Analysis in Google Colab\n",
        "\n",
        "This notebook goes through the stages of installing packages for spatial analysis in R, within the Google Colab environment. Specifically, it installs the spatialreg, rgdal and sf packages and dependencies.\n",
        "\n",
        "I developed this while conducting spaital regressions on small UK census geographies which took too long to run locally on my machine. I wanted to use Google Colab to run models more quickly, but I found that getting the relevant spatial analysis packages to install and load successfully was difficult and sensitive to the order in which elements were run. Having found a succesful workflow, I have set out the steps in this notebook.\n",
        "\n",
        "**You only need to run this notebook once** to get the packages correclty installed. Then you can use the [*Spatial Regression Template*](https://github.com/lrowleyabel/Spatial-Regression-in-Google-Colab/blob/main/Notebooks/Spatial_Regression_Template.ipynb) notebook to conduct actual analysis.\n",
        "\n"
      ],
      "metadata": {
        "id": "Yau8mL6-uQfP"
      }
    },
    {
      "cell_type": "markdown",
      "source": [
        "### Step 1: Set up R"
      ],
      "metadata": {
        "id": "D_UtrldivjCy"
      }
    },
    {
      "cell_type": "code",
      "source": [
        "# Check which version of the rpy2 package is installed\n",
        "!pip show rpy2"
      ],
      "metadata": {
        "id": "1SuVHRqLGw-I"
      },
      "execution_count": null,
      "outputs": []
    },
    {
      "cell_type": "code",
      "source": [
        "# If rpy2 version is newer than 3.5.1, downgrade to 3.5.1 so that R magic works. After installing, restart runtime.\n",
        "# via https://stackoverflow.com/questions/74283327/conversion-py2rpy-not-defined-for-objects-of-type-class-str\n",
        "!pip install rpy2==3.5.1"
      ],
      "metadata": {
        "id": "P0ZrFnOvECLq"
      },
      "execution_count": null,
      "outputs": []
    },
    {
      "cell_type": "code",
      "metadata": {
        "id": "wWrtcTdet_Xv"
      },
      "source": [
        "# Activate R in python notebook\n",
        "%load_ext rpy2.ipython"
      ],
      "execution_count": null,
      "outputs": []
    },
    {
      "cell_type": "code",
      "source": [
        "%%R\n",
        "# Install relevant system packages required for loading the sf package\n",
        "# via https://github.com/datacarpentry/r-raster-vector-geospatial/issues/138#issue-313014296\n",
        "system(\"apt-get -qq install -y libudunits2-dev libgdal-dev libgeos-dev libproj-dev\", intern=TRUE)\n",
        "system(\"apt install libcurl4-openssl-dev\")"
      ],
      "metadata": {
        "id": "IDftboYlt_Xw"
      },
      "execution_count": null,
      "outputs": []
    },
    {
      "cell_type": "markdown",
      "source": [
        "### Step 2: Connect to Drive\n",
        "Connect this notebook to Google Drive so that it can save the package files to a directory there. This means we can install the packages just once and then load them from Google Drive each time we run an analysis."
      ],
      "metadata": {
        "id": "o0WXaSO3v5io"
      }
    },
    {
      "cell_type": "code",
      "source": [
        "# Connect the notebook to your Google Drive\n",
        "from google.colab import drive\n",
        "drive.mount('/content/drive')"
      ],
      "metadata": {
        "id": "x93-Hfcx6chB"
      },
      "execution_count": null,
      "outputs": []
    },
    {
      "cell_type": "code",
      "source": [
        "%%R\n",
        "# Specify path to directory in Google Drive where packages will be installed to.\n",
        "# Edit to point to correct directory.\n",
        "lib_loc <- \"/content/drive/MyDrive/r-lib\"\n"
      ],
      "metadata": {
        "id": "RKNHqQout_Xx"
      },
      "execution_count": null,
      "outputs": []
    },
    {
      "cell_type": "markdown",
      "source": [
        "### Step 3: Install packages\n",
        "This step was sensistive to the order in which packages were installed, so I would suggest running each cell individually and ensuring successful execution before continuing. It takes a while, however, you only need to do this once."
      ],
      "metadata": {
        "id": "3rYgaGx8vqMB"
      }
    },
    {
      "cell_type": "code",
      "source": [
        "%%R\n",
        "install.packages(\"sp\", lib = lib_loc)"
      ],
      "metadata": {
        "id": "WJPQqMqwtuQI"
      },
      "execution_count": null,
      "outputs": []
    },
    {
      "cell_type": "code",
      "source": [
        "%%R\n",
        "library(sp, lib.loc = lib_loc)"
      ],
      "metadata": {
        "id": "KiEzCkvXRMnW"
      },
      "execution_count": null,
      "outputs": []
    },
    {
      "cell_type": "code",
      "source": [
        "%%R\n",
        "install.packages(\"rgdal\", lib = lib_loc)"
      ],
      "metadata": {
        "id": "BabVOcp1tgZu"
      },
      "execution_count": null,
      "outputs": []
    },
    {
      "cell_type": "code",
      "source": [
        "%%R\n",
        "library(rgdal, lib.loc = lib_loc)"
      ],
      "metadata": {
        "id": "nKRmN5mbcRx5"
      },
      "execution_count": null,
      "outputs": []
    },
    {
      "cell_type": "code",
      "source": [
        "%%R\n",
        "install.packages(\"Rcpp\", lib = lib_loc)"
      ],
      "metadata": {
        "id": "3CRM2ptWTDIS"
      },
      "execution_count": null,
      "outputs": []
    },
    {
      "cell_type": "code",
      "source": [
        "%%R\n",
        "install.packages(\"terra\", lib = lib_loc)"
      ],
      "metadata": {
        "id": "KaV7tb95TY2_"
      },
      "execution_count": null,
      "outputs": []
    },
    {
      "cell_type": "code",
      "source": [
        "%%R\n",
        "install.packages(\"raster\", lib = lib_loc)"
      ],
      "metadata": {
        "id": "VaUhi4iRU2ns"
      },
      "execution_count": null,
      "outputs": []
    },
    {
      "cell_type": "code",
      "source": [
        "%%R\n",
        "install.packages(\"spData\", lib = lib_loc)"
      ],
      "metadata": {
        "id": "yTGOeMAyVn5k"
      },
      "execution_count": null,
      "outputs": []
    },
    {
      "cell_type": "code",
      "source": [
        "%%R\n",
        "install.packages(\"units\", lib = lib_loc)"
      ],
      "metadata": {
        "id": "tQK4W9jtVxuY"
      },
      "execution_count": null,
      "outputs": []
    },
    {
      "cell_type": "code",
      "source": [
        "%%R\n",
        "install.packages(\"s2\", lib = lib_loc)"
      ],
      "metadata": {
        "id": "uffPMg8uV9c-"
      },
      "execution_count": null,
      "outputs": []
    },
    {
      "cell_type": "code",
      "source": [
        "%%R\n",
        "install.packages(\"deldir\", lib = lib_loc)"
      ],
      "metadata": {
        "id": "cAJUqNnkXo29"
      },
      "execution_count": null,
      "outputs": []
    },
    {
      "cell_type": "code",
      "source": [
        "%%R\n",
        "install.packages(\"sf\", lib = lib_loc)"
      ],
      "metadata": {
        "id": "bw3qh4wIXusv"
      },
      "execution_count": null,
      "outputs": []
    },
    {
      "cell_type": "code",
      "source": [
        "%%R\n",
        "install.packages(\"spdep\", lib = lib_loc)"
      ],
      "metadata": {
        "id": "-eKuUBehYcnK"
      },
      "execution_count": null,
      "outputs": []
    },
    {
      "cell_type": "code",
      "source": [
        "%%R\n",
        "install.packages(\"spatialreg\", lib = lib_loc)"
      ],
      "metadata": {
        "id": "z2SIH1VsYo2f"
      },
      "execution_count": null,
      "outputs": []
    }
  ]
}